{
 "cells": [
  {
   "cell_type": "markdown",
   "id": "ad73b618-85a9-4096-ade0-6f1aa737d018",
   "metadata": {},
   "source": [
    "Data Science Tools and Ecosystem"
   ]
  },
  {
   "cell_type": "markdown",
   "id": "8fca49ff-32aa-4a22-9fb6-48ded48f48f8",
   "metadata": {},
   "source": [
    "In this note book, Data Science Tools and Ecosystem are summarized. \n",
    "Data science tools are used handling, transforming, visualization and etc.. "
   ]
  },
  {
   "cell_type": "markdown",
   "id": "5a8ec9b3-0c56-4427-b9d2-92458d12a65b",
   "metadata": {},
   "source": [
    "Some popular languages that data scientists use are:\n",
    "1. Python\n",
    "2. R\n",
    "3. SQL"
   ]
  },
  {
   "cell_type": "markdown",
   "id": "97d7748b-79a1-4d3a-bc63-3780339f1c8f",
   "metadata": {},
   "source": [
    "Some commonly used libraries used by Data Scientist include:\n",
    "1. Pandas\n",
    "2. NumPy\n",
    "3. Matplotlib"
   ]
  },
  {
   "cell_type": "markdown",
   "id": "768b3073-5e39-478c-ad0c-d567d023f203",
   "metadata": {},
   "source": [
    "| Data Science Tools |\n",
    "---------------------\n",
    "| Python |\n",
    "| Scala |\n",
    "| Julia |"
   ]
  },
  {
   "cell_type": "markdown",
   "id": "154ff905-0feb-4258-bbc0-0a92f8a161b1",
   "metadata": {},
   "source": [
    "Below are a few examples of arithmetic expressions in python"
   ]
  },
  {
   "cell_type": "code",
   "execution_count": 1,
   "id": "87eb0446-84a8-491f-a5e7-7d055c538da8",
   "metadata": {
    "tags": []
   },
   "outputs": [
    {
     "data": {
      "text/plain": [
       "17"
      ]
     },
     "execution_count": 1,
     "metadata": {},
     "output_type": "execute_result"
    }
   ],
   "source": [
    "# this is a simple arithmetic expression to mutliply then add integers\n",
    "(3*4)+5"
   ]
  },
  {
   "cell_type": "code",
   "execution_count": 3,
   "id": "ecdb39ac-1147-476b-9e55-17a326041c89",
   "metadata": {
    "tags": []
   },
   "outputs": [
    {
     "data": {
      "text/plain": [
       "3.3333333333333335"
      ]
     },
     "execution_count": 3,
     "metadata": {},
     "output_type": "execute_result"
    }
   ],
   "source": [
    "# this will convert 200 minute to hours by dividing by 60\n",
    "200/60"
   ]
  },
  {
   "cell_type": "markdown",
   "id": "6cf76004-ac6d-4b18-a301-0c40d27078f5",
   "metadata": {},
   "source": [
    "***Objectives:***\n",
    "\n",
    "List of popular languages of Data Science \n",
    "List of commonly used libraries in Data Science \n",
    "Open source Data Science Tools "
   ]
  },
  {
   "cell_type": "markdown",
   "id": "51491533-46a9-4872-b153-18deab0d25a6",
   "metadata": {},
   "source": [
    "Author:\n",
    "\n",
    "Bona Nasser "
   ]
  },
  {
   "cell_type": "code",
   "execution_count": null,
   "id": "3010402f-e2bf-4222-b832-1c3953a87aa3",
   "metadata": {},
   "outputs": [],
   "source": []
  }
 ],
 "metadata": {
  "kernelspec": {
   "display_name": "Python",
   "language": "python",
   "name": "conda-env-python-py"
  },
  "language_info": {
   "codemirror_mode": {
    "name": "ipython",
    "version": 3
   },
   "file_extension": ".py",
   "mimetype": "text/x-python",
   "name": "python",
   "nbconvert_exporter": "python",
   "pygments_lexer": "ipython3",
   "version": "3.7.12"
  }
 },
 "nbformat": 4,
 "nbformat_minor": 5
}
